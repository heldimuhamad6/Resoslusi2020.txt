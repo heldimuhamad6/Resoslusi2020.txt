{
  "nbformat": 4,
  "nbformat_minor": 0,
  "metadata": {
    "colab": {
      "name": "Coding Practice 1 - IF-ELSE .ipynb",
      "provenance": [],
      "authorship_tag": "ABX9TyMvHhEj4hxdWboFr6fzAy3+",
      "include_colab_link": true
    },
    "kernelspec": {
      "name": "python3",
      "display_name": "Python 3"
    },
    "language_info": {
      "name": "python"
    }
  },
  "cells": [
    {
      "cell_type": "markdown",
      "metadata": {
        "id": "view-in-github",
        "colab_type": "text"
      },
      "source": [
        "<a href=\"https://colab.research.google.com/github/heldimuhamad6/Resoslusi2020.txt/blob/master/Coding_Practice_1_IF_ELSE_.ipynb\" target=\"_parent\"><img src=\"https://colab.research.google.com/assets/colab-badge.svg\" alt=\"Open In Colab\"/></a>"
      ]
    },
    {
      "cell_type": "markdown",
      "source": [
        "WAJIB BACA !!!\n",
        "\n",
        "Sebelum melakukan coding, pastikan design solusi dari permasalahan yang ada sudah selesai baik diotak atau ditulis di kertas masing-masing. **Coding hanyalah menuliskan solusi dari permasalahan kita**, maka dari itu solusinya harus ada dulu sebelum diketik.\n",
        "\n",
        "Selamat Berlatih\n"
      ],
      "metadata": {
        "id": "Wwd1f0VWDu50"
      }
    },
    {
      "cell_type": "code",
      "execution_count": 3,
      "metadata": {
        "id": "wpPWeu3zr6h-"
      },
      "outputs": [],
      "source": [
        "# Tuliskan fungsi untuk menentukan apakah nilai yang diinput user ganjil atau genap ! "
      ]
    },
    {
      "cell_type": "code",
      "source": [
        "# Write a Python program to convert temperatures to and from celsius, fahrenheit"
      ],
      "metadata": {
        "id": "SPmfmmz_GbZm"
      },
      "execution_count": null,
      "outputs": []
    },
    {
      "cell_type": "code",
      "source": [
        "# Write a Python program to find those numbers which are divisible by 7 and multiple of 5, between 1500 and 2700 (both included)."
      ],
      "metadata": {
        "id": "62XNQbRQF6Qn"
      },
      "execution_count": null,
      "outputs": []
    },
    {
      "cell_type": "code",
      "source": [
        "# cari soal soal if else"
      ],
      "metadata": {
        "id": "YN9QoPsMGylY"
      },
      "execution_count": null,
      "outputs": []
    },
    {
      "cell_type": "code",
      "source": [
        ""
      ],
      "metadata": {
        "id": "9mRhi6h6Gy8j"
      },
      "execution_count": null,
      "outputs": []
    },
    {
      "cell_type": "code",
      "source": [
        ""
      ],
      "metadata": {
        "id": "Dkag2EKqGoNu"
      },
      "execution_count": null,
      "outputs": []
    }
  ]
}